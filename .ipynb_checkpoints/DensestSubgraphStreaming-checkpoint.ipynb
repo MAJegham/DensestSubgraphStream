{
 "cells": [
  {
   "cell_type": "code",
   "execution_count": 1,
   "metadata": {
    "collapsed": true
   },
   "outputs": [],
   "source": [
    "#INPUT \"graph.txt\" : each line contains an edge in format: #,# where # are ints\n",
    "#OUTPUT \"H.txt\" : description of the densest subgraph\n",
    "\n",
    "epsilon = 0.001\n",
    "\n",
    "from os import remove\n",
    "from os import stat\n",
    "try:\n",
    "    remove('./H.txt')\n",
    "except OSError:\n",
    "    pass"
   ]
  },
  {
   "cell_type": "code",
   "execution_count": 2,
   "metadata": {
    "collapsed": true
   },
   "outputs": [],
   "source": [
    "def copyTxt(src_f,dest_f):    \n",
    "    dest_f.write(src_f.read())\n",
    "    \n",
    "def copyFile(src, dest):\n",
    "    src_f  = open(src,\"r\")\n",
    "    dest_f = open(dest,\"w\")\n",
    "    copyTxt(src_f,dest_f)    \n",
    "    src_f.close()\n",
    "    dest_f.close()\n",
    "    \n",
    "# Copy original graph to process on copy\n",
    "copyFile(\"./graph.txt\",\"./G.txt\")"
   ]
  },
  {
   "cell_type": "code",
   "execution_count": 3,
   "metadata": {
    "collapsed": true
   },
   "outputs": [],
   "source": [
    "# Degrees of nodes\n",
    "degrees = {}\n",
    "\n",
    "n_g = 0 # Number of nodes in G\n",
    "n_e = 0 # Number of edges in G"
   ]
  },
  {
   "cell_type": "code",
   "execution_count": 4,
   "metadata": {},
   "outputs": [],
   "source": [
    "g = open(\"./G.txt\",\"r\")\n",
    "\n",
    "# H: densest graph so far\n",
    "# Save whole graph as densest and Get nodes' degrees\n",
    "h = open(\"./H.txt\",\"a\")\n",
    "for edge in g:\n",
    "    n_e += 1 \n",
    "    h.write(edge)\n",
    "    \n",
    "    e = edge.rstrip().split(',')\n",
    "    if e[0] in degrees:\n",
    "        degrees[e[0]] += 1\n",
    "    else:\n",
    "        n_g +=1\n",
    "        degrees[e[0]] = 1\n",
    "    if e[1] in degrees:\n",
    "        degrees[e[1]] += 1\n",
    "    else:\n",
    "        n_g +=1\n",
    "        degrees[e[1]] = 1\n",
    "h.close()\n",
    "g.close()\n",
    "\n",
    "# average degree density\n",
    "rho_h = rho_g = n_e/n_g"
   ]
  },
  {
   "cell_type": "code",
   "execution_count": 5,
   "metadata": {},
   "outputs": [
    {
     "name": "stdout",
     "output_type": "stream",
     "text": [
      "Best average density: 2.000000\n"
     ]
    }
   ],
   "source": [
    "# next line Can be used in the while condition : File G is not empty; we still have edges to process\n",
    "# os.stat(\"G.txt\").st_size != 0  \n",
    "\n",
    "while (True): \n",
    "    # set approximation treshold\n",
    "    th = 2 * (1 + epsilon) * rho_g\n",
    "\n",
    "    # remove nodes with low degrees\n",
    "    g = open(\"./G.txt\",\"r\")\n",
    "    temp = open(\"./temp.txt\",\"w\") # temporary file to store the subgraph to keep\n",
    "    for edge in g:\n",
    "        e = edge.rstrip().split(',')\n",
    "        if degrees[e[0]] > th and degrees[e[1]] > th:\n",
    "            temp.write(edge)\n",
    "        else:\n",
    "            n_e -= 1\n",
    "            degrees[e[0]] -= 1\n",
    "            degrees[e[1]] -= 1\n",
    "    g.close()\n",
    "    temp.close()\n",
    "\n",
    "    # copy temp into G\n",
    "    copyFile(\"./temp.txt\",\"./G.txt\")\n",
    "\n",
    "    # Calculate the number of nodes remaining in G\n",
    "    n_g = 0    \n",
    "    for i in degrees:\n",
    "        if degrees[i] != 0:\n",
    "            n_g += 1\n",
    "\n",
    "    if n_g != 0:\n",
    "        rho_g = n_e/n_g\n",
    "    else:\n",
    "        break; # terminate : we have no more nodes to process \n",
    "        \n",
    "    # Store if better solution    \n",
    "    if (rho_g)>(rho_h):\n",
    "        # copy G into H\n",
    "        copyFile(\"./G.txt\",\"./H.txt\")\n",
    "        rho_h = rho_g\n",
    "    \n",
    "print('Best average density: %f' % rho_h )    "
   ]
  },
  {
   "cell_type": "code",
   "execution_count": 6,
   "metadata": {
    "collapsed": true
   },
   "outputs": [],
   "source": [
    "# Cleaning Files\n",
    "try:\n",
    "    remove('./G.txt')\n",
    "except OSError:\n",
    "    pass\n",
    "try:\n",
    "    remove('./temp.txt')\n",
    "except OSError:\n",
    "    pass"
   ]
  },
  {
   "cell_type": "code",
   "execution_count": null,
   "metadata": {
    "collapsed": true
   },
   "outputs": [],
   "source": []
  }
 ],
 "metadata": {
  "kernelspec": {
   "display_name": "Python 3",
   "language": "python",
   "name": "python3"
  },
  "language_info": {
   "codemirror_mode": {
    "name": "ipython",
    "version": 3
   },
   "file_extension": ".py",
   "mimetype": "text/x-python",
   "name": "python",
   "nbconvert_exporter": "python",
   "pygments_lexer": "ipython3",
   "version": "3.6.3"
  }
 },
 "nbformat": 4,
 "nbformat_minor": 2
}
